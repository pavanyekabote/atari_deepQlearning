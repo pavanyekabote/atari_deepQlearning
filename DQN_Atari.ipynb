{
 "cells": [
  {
   "cell_type": "code",
   "execution_count": 234,
   "metadata": {},
   "outputs": [],
   "source": [
    "from keras.models import Sequential\n",
    "from keras.layers import Dense, Dropout, Conv2D, Flatten\n",
    "from keras.optimizers import Adam\n",
    "from keras.preprocessing import image\n",
    "import gym\n",
    "import numpy as np\n",
    "from collections import deque\n",
    "import random\n",
    "import sys\n",
    "import pandas as pd\n"
   ]
  },
  {
   "cell_type": "code",
   "execution_count": 257,
   "metadata": {},
   "outputs": [
    {
     "data": {
      "text/plain": [
       "(Box(210, 160, 3), Discrete(4))"
      ]
     },
     "execution_count": 257,
     "metadata": {},
     "output_type": "execute_result"
    }
   ],
   "source": [
    "env = gym.make('Breakout-v0')\n",
    "env.observation_space, env.action_space"
   ]
  },
  {
   "cell_type": "code",
   "execution_count": 275,
   "metadata": {},
   "outputs": [],
   "source": [
    "class DQN:\n",
    "    \n",
    "    def __init__(self, state_size, action_size):\n",
    "        self.memory = deque(maxlen=2000)\n",
    "        self.state_size = state_size\n",
    "        self.action_size = action_size\n",
    "        self.epsilon= 1\n",
    "        self.eps_decay_rate = 0.9995\n",
    "        self.gamma = 0.70\n",
    "        self.lr = 0.01\n",
    "        self.min_eps = 0.01\n",
    "        self.model = self._build_model()\n",
    "    \n",
    "    def preprocess(self, image):\n",
    "        img = Image.fromarray(image)\n",
    "        state =  np.expand_dims(np.asarray(np.max(img.resize((84,84)), axis=2)),axis=2)\n",
    "        ns = np.expand_dims(state,axis=0)\n",
    "        #print(\"State DIMS: \",state.shape, \" NS DIMES: \",ns.shape)\n",
    "        return ns\n",
    "        \n",
    "    \n",
    "    def _build_model(self):\n",
    "        model = Sequential()\n",
    "        model.add(Conv2D(32, 8 , strides=(2, 2), padding='valid', activation='relu', input_shape=self.state_size))\n",
    "        model.add(Conv2D(64, 4 , strides=(4, 4), padding='valid', activation='relu'))\n",
    "        model.add(Conv2D(128, 3 ,strides=(2, 2), padding='valid', activation='relu'))\n",
    "        model.add(Flatten())\n",
    "        model.add(Dense(512, activation='relu'))\n",
    "        model.add(Dense(self.action_size, activation='linear'))\n",
    "        model.compile(loss='mse', optimizer=Adam(lr=self.lr), metrics=['accuracy'])\n",
    "        return model\n",
    "    \n",
    "    def mem_size(self):\n",
    "        return len(self.memory)\n",
    "    \n",
    "    def check_shape(self, state):\n",
    "        return True if state.shape[2] > self.state_size[2] else False\n",
    "        \n",
    "    def act(self, state):\n",
    "        #print(\"STATE SIZE: \", state.shape)\n",
    "        if self.check_shape(state):\n",
    "            state = self.preprocess(state)\n",
    "        #print(\"STATE AFTER \",state.shape)\n",
    "        prob = np.random.rand()\n",
    "        if prob < self.epsilon:\n",
    "            action = random.randrange(self.action_size)\n",
    "        else:\n",
    "            action = np.argmax(self.model.predict(state)[0])\n",
    "        return action\n",
    "            \n",
    "    def remember(self, state, action, reward, next_state, done):\n",
    "        if self.check_shape(state) or self.check_shape(next_state):\n",
    "            state = self.preprocess(state)\n",
    "            next_state = self.preprocess(next_state)\n",
    "        self.memory.append((state, action, reward, next_state, done))\n",
    "    \n",
    "    def replay(self, batch_size):\n",
    "        minibatch = random.sample(self.memory, batch_size)\n",
    "        for state, action, reward, next_state, done in minibatch:\n",
    "            target = reward\n",
    "            if not done:\n",
    "                target = reward + self.gamma * np.amax(self.model.predict(next_state)[0])\n",
    "            target_f =self.model.predict(state)\n",
    "            target_f[0][action] = target\n",
    "            self.model.fit(state, target_f, epochs=1, verbose=0)\n",
    "        if self.epsilon > self.min_eps:\n",
    "            self.epsilon *= self.eps_decay_rate\n",
    "            \n",
    "    def load(self, name):\n",
    "        self.model.load_weights(name)\n",
    "\n",
    "    def save(self, name):\n",
    "        self.model.save_weights(name)\n",
    "\n",
    "        "
   ]
  },
  {
   "cell_type": "code",
   "execution_count": 276,
   "metadata": {},
   "outputs": [
    {
     "data": {
      "text/plain": [
       "2"
      ]
     },
     "execution_count": 276,
     "metadata": {},
     "output_type": "execute_result"
    }
   ],
   "source": [
    "len(env.observation_space.shape[:2])"
   ]
  },
  {
   "cell_type": "code",
   "execution_count": null,
   "metadata": {},
   "outputs": [],
   "source": []
  },
  {
   "cell_type": "code",
   "execution_count": 277,
   "metadata": {},
   "outputs": [],
   "source": [
    "# Initialize state_size, action_size\n",
    "state_size = (84,84,1)\n",
    "action_size = env.action_space.n\n",
    "\n",
    "# Create an Agent with required State and Action sizes\n",
    "agent = DQN(state_size, action_size)"
   ]
  },
  {
   "cell_type": "code",
   "execution_count": 278,
   "metadata": {},
   "outputs": [],
   "source": [
    "def train(env, n_episodes=100, batch_size=32):\n",
    "    \n",
    "    avg_reward = []\n",
    "    max_avg = -np.inf\n",
    "    for i_ep in range(n_episodes):\n",
    "        \n",
    "        state = env.reset()\n",
    "        total_reward = 0\n",
    "        for t in range(600):\n",
    "            action = agent.act(state)\n",
    "            next_state, reward, done, _ = env.step(action)\n",
    "            total_reward += reward\n",
    "            #env.render()\n",
    "            agent.remember(state, action, reward, next_state, done)\n",
    "            if done:\n",
    "                break\n",
    "        avg_reward.append(total_reward)\n",
    "        avg = np.mean(avg_reward[-100:])\n",
    "        if (max_avg < avg):\n",
    "            max_avg = avg\n",
    "        print(\"\\repisode: {}/{},Max: {:.2f} score: {:.2f}\".format(i_ep+1, n_episodes, max_avg, avg),end=\"\")\n",
    "        sys.stdout.flush()\n",
    "        \n",
    "        if agent.mem_size() >= batch_size:\n",
    "            agent.replay(batch_size)\n",
    "    return avg_reward"
   ]
  },
  {
   "cell_type": "code",
   "execution_count": 279,
   "metadata": {},
   "outputs": [
    {
     "name": "stdout",
     "output_type": "stream",
     "text": [
      "episode: 100/100,Max: 1.67 score: 1.36"
     ]
    }
   ],
   "source": [
    "scores = train(env, n_episodes=100)"
   ]
  },
  {
   "cell_type": "code",
   "execution_count": 265,
   "metadata": {},
   "outputs": [],
   "source": [
    "def test(env, n_episodes=10, batch_size=32):\n",
    "    \n",
    "    avg_reward = []\n",
    "    max_avg = -np.inf\n",
    "    for i_ep in range(n_episodes):\n",
    "        \n",
    "        state = env.reset()\n",
    "        total_reward = 0\n",
    "        done = False\n",
    "        while True:\n",
    "            action = agent.act(state)\n",
    "            next_state, reward, done, _ = env.step(action)\n",
    "            env.render()\n",
    "            total_reward += reward\n",
    "            agent.remember(state, action, reward, next_state, done)\n",
    "            if done:\n",
    "                break\n",
    "        env.close()\n",
    "        avg_reward.append(total_reward)\n",
    "        avg = np.mean(avg_reward)\n",
    "        if (max_avg < avg):\n",
    "            max_avg = avg\n",
    "        print(\"\\repisode: {}/{},Max: {:.2f} score: {:.2f}\".format(i_ep+1, n_episodes, max_avg, avg),end=\"\")\n",
    "        sys.stdout.flush()\n",
    "        \n",
    "    return avg_reward"
   ]
  },
  {
   "cell_type": "code",
   "execution_count": 274,
   "metadata": {},
   "outputs": [
    {
     "name": "stdout",
     "output_type": "stream",
     "text": [
      "episode: 10/10,Max: 1.12 score: 0.90"
     ]
    }
   ],
   "source": [
    "scores_test = test(env)"
   ]
  },
  {
   "cell_type": "code",
   "execution_count": 219,
   "metadata": {},
   "outputs": [],
   "source": [
    "state = env.reset()\n",
    "\n",
    "done = False\n",
    "while True:\n",
    "    next_state, reward, done, _ = env.step(env.action_space.sample())\n",
    "    env.render()\n",
    "    if done:\n",
    "        break\n",
    "env.close()\n",
    "        "
   ]
  },
  {
   "cell_type": "code",
   "execution_count": 239,
   "metadata": {},
   "outputs": [
    {
     "data": {
      "image/png": "[encoded data removed]",
      "text/plain": [
       "<Figure size 432x288 with 1 Axes>"
      ]
     },
     "metadata": {
      "needs_background": "light"
     },
     "output_type": "display_data"
    }
   ],
   "source": [
    "def plot_scores(scores, rolling_window=100):\n",
    "    \"\"\"Plot scores and optional rolling mean using specified window.\"\"\"\n",
    "    plt.plot(scores); plt.title(\"Scores\");\n",
    "    rolling_mean = pd.Series(scores).rolling(rolling_window).mean()\n",
    "    plt.plot(rolling_mean);\n",
    "    return rolling_mean\n",
    "\n",
    "rolling_mean = plot_scores(scores_test)"
   ]
  },
  {
   "cell_type": "code",
   "execution_count": 250,
   "metadata": {},
   "outputs": [],
   "source": [
    "env.close()"
   ]
  },
  {
   "cell_type": "code",
   "execution_count": null,
   "metadata": {},
   "outputs": [],
   "source": []
  }
 ],
 "metadata": {
  "kernelspec": {
   "display_name": "Python 3",
   "language": "python",
   "name": "python3"
  },
  "language_info": {
   "codemirror_mode": {
    "name": "ipython",
    "version": 3
   },
   "file_extension": ".py",
   "mimetype": "text/x-python",
   "name": "python",
   "nbconvert_exporter": "python",
   "pygments_lexer": "ipython3",
   "version": "3.7.1"
  }
 },
 "nbformat": 4,
 "nbformat_minor": 2
}
